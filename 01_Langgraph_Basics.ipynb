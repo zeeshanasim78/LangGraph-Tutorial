{
  "nbformat": 4,
  "nbformat_minor": 0,
  "metadata": {
    "colab": {
      "provenance": []
    },
    "kernelspec": {
      "name": "python3",
      "display_name": "Python 3"
    },
    "language_info": {
      "name": "python"
    }
  },
  "cells": [
    {
      "cell_type": "markdown",
      "source": [
        "**Step # 1: Installing Required Libraries**\n",
        "\n",
        "---\n",
        "\n"
      ],
      "metadata": {
        "id": "8bt2nkAWmLIG"
      }
    },
    {
      "cell_type": "code",
      "source": [
        "# Installing the Required Libraries\n",
        "%%capture --no-stderr\n",
        "pip install langgraph langchain_core langchain_google_genai python-dotenv tavily-python langchain_community"
      ],
      "metadata": {
        "id": "yd7sNV5u484k"
      },
      "execution_count": 5,
      "outputs": []
    },
    {
      "cell_type": "markdown",
      "source": [
        "**Step # 2: Importing Packages**\n",
        "\n",
        "---"
      ],
      "metadata": {
        "id": "wjdfDXUXUr5s"
      }
    },
    {
      "cell_type": "code",
      "source": [
        "# Importing Packages\n",
        "from typing import Dict, TypedDict\n",
        "from langgraph.graph import StateGraph, END, START\n",
        "from langchain_core.prompts import ChatPromptTemplate\n",
        "from langchain_google_genai import ChatGoogleGenerativeAI\n",
        "\n",
        "from IPython.display import display, Image\n",
        "from langchain_core.runnables.graph import MermaidDrawMethod\n",
        "from dotenv import load_dotenv\n",
        "import os\n"
      ],
      "metadata": {
        "id": "pdRVf0MX5-ck"
      },
      "execution_count": 11,
      "outputs": []
    },
    {
      "cell_type": "markdown",
      "source": [
        "**Step # 3: Load Environment Variables and Set API Keys**\n",
        "\n",
        "---"
      ],
      "metadata": {
        "id": "gzESVLbGVXTt"
      }
    },
    {
      "cell_type": "code",
      "execution_count": 7,
      "metadata": {
        "id": "1UvDRtgORENv"
      },
      "outputs": [],
      "source": [
        "# Load environment variables and set API key\n",
        "load_dotenv()\n",
        "\n",
        "from google.colab import userdata\n",
        "os.environ[\"GEMINI_API_KEY\"]=userdata.get('GEMINI_API_KEY')\n",
        "os.environ[\"TAVILY_API_KEY\"]=userdata.get(\"TAVILY_API_KEY\")\n",
        "os.environ[\"GOOGLE_API_KEY\"]=userdata.get(\"GOOGLE_API_KEY\")\n",
        "os.environ[\"LANGCHAIN_API_KEY\"]=userdata.get(\"LANGCHAIN_API_KEY\")"
      ]
    },
    {
      "cell_type": "markdown",
      "source": [
        "**Step # 4 : Define State Structure**\n",
        "\n",
        "---"
      ],
      "metadata": {
        "id": "UVvL7MUnNlgn"
      }
    },
    {
      "cell_type": "code",
      "execution_count": 8,
      "metadata": {
        "id": "NTaW6WZGSPoR"
      },
      "outputs": [],
      "source": [
        "# Define State Structure\n",
        "from typing_extensions import Annotated\n",
        "from langgraph.graph import add_messages\n",
        "\n",
        "class State(TypedDict):\n",
        "    query: str\n",
        "    category: str\n",
        "    sentiment: str\n",
        "    response: str\n",
        "    messages: Annotated[list, add_messages]\n",
        "\n"
      ]
    },
    {
      "cell_type": "markdown",
      "source": [
        "**Step # 5 : Define Function Nodes**\n",
        "\n",
        "---"
      ],
      "metadata": {
        "id": "WOQTMVPoV_Zh"
      }
    },
    {
      "cell_type": "code",
      "execution_count": 9,
      "metadata": {
        "id": "zI1ww3HtSPoS"
      },
      "outputs": [],
      "source": [
        "#  Define the functions/nodes\n",
        "def categorize(state: State) -> State:\n",
        "    \"\"\"Categorize the user query into English, Math or Science.\"\"\"\n",
        "    prompt = ChatPromptTemplate.from_template(\n",
        "        \"Categorize the following user query into one of these categories: \"\n",
        "        \"English, Math or Science. Query: {query}\"\n",
        "    )\n",
        "    chain = prompt | ChatGoogleGenerativeAI(temperature=0,model=\"gemini-2.0-flash-exp\",api_key=userdata.get('GEMINI_API_KEY'))\n",
        "    category = chain.invoke({\"query\": state[\"query\"]}).content\n",
        "    return {\"category\": category}\n",
        "\n",
        "\n",
        "def handle_english(state: State) -> State:\n",
        "    \"\"\"Provide a English Language related response to the query.\"\"\"\n",
        "    prompt = ChatPromptTemplate.from_template(\n",
        "        \"Provide a english language related response to the following user query: {query}\"\n",
        "    )\n",
        "    chain = prompt | ChatGoogleGenerativeAI(temperature=0,model=\"gemini-2.0-flash-exp\",api_key=userdata.get('GEMINI_API_KEY'))\n",
        "    response = chain.invoke({\"query\": state[\"query\"]}).content\n",
        "    return {\"response\": response}\n",
        "\n",
        "def handle_math(state: State) -> State:\n",
        "    \"\"\"Provide a Math related response to the query.\"\"\"\n",
        "    prompt = ChatPromptTemplate.from_template(\n",
        "        \"Provide a Math related response to the following user query: {query}\"\n",
        "    )\n",
        "    chain = prompt | ChatGoogleGenerativeAI(temperature=0,model=\"gemini-2.0-flash-exp\",api_key=userdata.get('GEMINI_API_KEY'))\n",
        "    response = chain.invoke({\"query\": state[\"query\"]}).content\n",
        "    return {\"response\": response}\n",
        "\n",
        "def handle_science(state: State) -> State:\n",
        "    \"\"\"Provide a Science related to the query.\"\"\"\n",
        "    prompt = ChatPromptTemplate.from_template(\n",
        "        \"Provide a Science related response to the following user query: {query}\"\n",
        "    )\n",
        "    chain = prompt | ChatGoogleGenerativeAI(temperature=0,model=\"gemini-2.0-flash-exp\",api_key=userdata.get('GEMINI_API_KEY'))\n",
        "    response = chain.invoke({\"query\": state[\"query\"]}).content\n",
        "    return {\"response\": response}\n",
        "\n",
        "def route_query(state: State) -> str:\n",
        "    \"\"\"Route the query based on its category.\"\"\"\n",
        "    if state[\"category\"] == \"English\":\n",
        "        return \"handle_english\"\n",
        "    elif state[\"category\"] == \"Math\":\n",
        "        return \"handle_math\"\n",
        "    else:\n",
        "        return \"handle_science\""
      ]
    },
    {
      "cell_type": "markdown",
      "source": [
        "**Step # 6 : Define Graph , Add Nodes , Specify Route and Compile Graph**\n",
        "\n",
        "---"
      ],
      "metadata": {
        "id": "zmApAbw6WOMB"
      }
    },
    {
      "cell_type": "code",
      "execution_count": 14,
      "metadata": {
        "id": "8iatm81_SPoT"
      },
      "outputs": [],
      "source": [
        "# Create the graph\n",
        "graph = StateGraph(State)\n",
        "\n",
        "# Add nodes\n",
        "graph.add_node(\"categorize\", categorize)\n",
        "graph.add_node(\"handle_english\", handle_english)\n",
        "graph.add_node(\"handle_math\", handle_math)\n",
        "graph.add_node(\"handle_science\", handle_science)\n",
        "\n",
        "\n",
        "# Add edges\n",
        "graph.add_edge(START, \"categorize\")\n",
        "graph.add_conditional_edges(\n",
        "    \"categorize\",\n",
        "    route_query,\n",
        "    {\n",
        "        \"handle_english\": \"handle_english\",\n",
        "        \"handle_math\": \"handle_math\",\n",
        "        \"handle_science\": \"handle_science\",\n",
        "    }\n",
        ")\n",
        "graph.add_edge(\"handle_english\", END)\n",
        "graph.add_edge(\"handle_math\", END)\n",
        "graph.add_edge(\"handle_science\", END)\n",
        "\n",
        "\n",
        "# Compile the graph\n",
        "app = graph.compile()\n",
        "\n"
      ]
    },
    {
      "cell_type": "markdown",
      "source": [
        "**Step # 7 : Display Graph / Visual Representation**\n",
        "\n",
        "---"
      ],
      "metadata": {
        "id": "ae4kGUSqWja4"
      }
    },
    {
      "cell_type": "code",
      "execution_count": 15,
      "metadata": {
        "colab": {
          "base_uri": "https://localhost:8080/",
          "height": 350
        },
        "id": "OcJBZNuKSPoT",
        "outputId": "6b5f97d5-6d6e-40b0-8be3-5bc75fde34ad"
      },
      "outputs": [
        {
          "output_type": "display_data",
          "data": {
            "image/png": "[encoded data removed]",
            "text/plain": [
              "<IPython.core.display.Image object>"
            ]
          },
          "metadata": {}
        }
      ],
      "source": [
        "display(\n",
        "    Image(\n",
        "        app.get_graph().draw_mermaid_png(\n",
        "            draw_method=MermaidDrawMethod.API,\n",
        "        )\n",
        "    )\n",
        ")"
      ]
    },
    {
      "cell_type": "markdown",
      "source": [
        "**Step # 8 : Define Function To Test the Graph Working**\n",
        "\n",
        "---"
      ],
      "metadata": {
        "id": "vRvxVZByWui8"
      }
    },
    {
      "cell_type": "code",
      "source": [
        "# Define Function to Test the Working\n",
        "def run_test_function(query: str) -> Dict[str, str]:\n",
        "    \"\"\"Process User query through the LLM and LangGraph .\n",
        "\n",
        "    Args:\n",
        "        query (str): The user's query\n",
        "\n",
        "    Returns:\n",
        "        Dict[str, str]: A dictionary containing the query's Category and Response\n",
        "    \"\"\"\n",
        "    results = app.invoke({\"query\": query})\n",
        "    return {\n",
        "        \"category\": results[\"category\"],\n",
        "        \"response\": results[\"response\"]\n",
        "    }\n"
      ],
      "metadata": {
        "id": "DbMyFPUc8-Ld"
      },
      "execution_count": 16,
      "outputs": []
    },
    {
      "cell_type": "markdown",
      "source": [
        "**Step # 9 : Define the Program that takes Continous Inputs and Process User Query**\n",
        "\n",
        "---"
      ],
      "metadata": {
        "id": "e4mdrfGmW3ES"
      }
    },
    {
      "cell_type": "code",
      "source": [
        "# Define the Program to take user inputs till user types exit\n",
        "def main():\n",
        "    while True:\n",
        "        query = input(\"Please enter your query (or type 'exit' to quit): \")\n",
        "        if query.lower() == 'exit':\n",
        "            print(\"Goodbye!\")\n",
        "            break\n",
        "\n",
        "        result = run_test_function(query)\n",
        "        print(f\"Query: {query}\")\n",
        "        print(f\"Category: {result['category']}\")\n",
        "        print(f\"Response: {result['response']}\")\n",
        "        print(\"\\n\")\n",
        "\n",
        "if __name__ == \"__main__\":\n",
        "    main()\n"
      ],
      "metadata": {
        "colab": {
          "base_uri": "https://localhost:8080/"
        },
        "id": "4hPjIk5S9fu1",
        "outputId": "146c15e3-b030-4bd8-9770-5e8cc74015e6"
      },
      "execution_count": 17,
      "outputs": [
        {
          "output_type": "stream",
          "name": "stdout",
          "text": [
            "Please enter your query (or type 'exit' to quit): What is the difference between Verb and Adverb\n",
            "Query: What is the difference between Verb and Adverb\n",
            "Category: **English**\n",
            "Response: Okay, let's break down the difference between verbs and adverbs from a scientific perspective, focusing on their function within the structure of language as a system:\n",
            "\n",
            "**Verbs: The Action Core**\n",
            "\n",
            "* **Function:** Verbs are the fundamental building blocks of a sentence, representing **actions, occurrences, or states of being.** They are the dynamic elements that describe what is happening.\n",
            "* **Scientific Analogy:** Think of verbs as the **processes** in a system. Just like a chemical reaction (e.g., *reacts*), a physical movement (e.g., *moves*), or a biological function (e.g., *grows*), verbs describe the active changes or conditions within a sentence.\n",
            "* **Examples:**\n",
            "    * **Action:** *The bird **flies**.* (The verb \"flies\" describes the action of the bird.)\n",
            "    * **Occurrence:** *The rain **fell**.* (The verb \"fell\" describes the event of rain.)\n",
            "    * **State of Being:** *She **is** happy.* (The verb \"is\" describes her current state.)\n",
            "* **Key Characteristics:**\n",
            "    * **Tense:** Verbs change form to indicate when an action occurred (past, present, future). This is like tracking the timeline of a process.\n",
            "    * **Voice:** Verbs can be active (subject performs the action) or passive (subject receives the action). This is like considering the direction of a force or interaction.\n",
            "    * **Agreement:** Verbs must agree with their subject in number (singular or plural). This is like ensuring the correct input for a process.\n",
            "\n",
            "**Adverbs: Modifying the Process**\n",
            "\n",
            "* **Function:** Adverbs are modifiers that provide **additional information about verbs, adjectives, or other adverbs.** They describe *how*, *when*, *where*, or *to what extent* something is done.\n",
            "* **Scientific Analogy:** Think of adverbs as the **parameters** that influence a process. Just like temperature, pressure, or concentration can affect a chemical reaction, adverbs modify the way a verb is carried out.\n",
            "* **Examples:**\n",
            "    * **Modifying a verb:** *The bird flies **quickly**.* (The adverb \"quickly\" modifies *how* the bird flies.)\n",
            "    * **Modifying an adjective:** *The flower is **very** beautiful.* (The adverb \"very\" modifies the degree of beauty.)\n",
            "    * **Modifying another adverb:** *She ran **incredibly** fast.* (The adverb \"incredibly\" modifies the degree of fastness.)\n",
            "* **Key Characteristics:**\n",
            "    * **Variety:** Adverbs can express manner, time, place, frequency, degree, and more. This is like having a range of parameters to fine-tune a process.\n",
            "    * **Flexibility:** Adverbs are often movable within a sentence without changing the core meaning. This is like adjusting the settings of a system without altering its fundamental function.\n",
            "    * **Often End in \"-ly\":** Many adverbs are formed by adding \"-ly\" to an adjective (e.g., quick -> quickly), but not all adverbs follow this rule.\n",
            "\n",
            "**The Key Difference: Action vs. Modification**\n",
            "\n",
            "In essence, the difference lies in their core function:\n",
            "\n",
            "* **Verbs** are the **actions** or **states** themselves. They are the core of the sentence's dynamic.\n",
            "* **Adverbs** are the **modifiers** that provide context and detail about those actions or states. They are the parameters that shape the process.\n",
            "\n",
            "**Analogy to a Scientific Experiment:**\n",
            "\n",
            "Imagine a simple experiment:\n",
            "\n",
            "* **Verb:** *The solution **heated**.* (This is the core action of the experiment.)\n",
            "* **Adverb:** *The solution heated **slowly**.* (This adverb modifies *how* the heating occurred, providing a parameter.)\n",
            "\n",
            "**In Summary:**\n",
            "\n",
            "Verbs are the fundamental actions or states, while adverbs are the modifiers that provide crucial details about those actions or states. They work together to create a complete and nuanced description of events, much like the components of a scientific system interact to produce a specific outcome. Understanding their distinct roles is crucial for comprehending the structure and meaning of language.\n",
            "\n",
            "\n",
            "Please enter your query (or type 'exit' to quit): What are Quadratic Equations\n",
            "Query: What are Quadratic Equations\n",
            "Category: **Math**\n",
            "Response: Okay, let's break down quadratic equations from a science perspective, focusing on their mathematical structure and how they relate to real-world phenomena.\n",
            "\n",
            "**What are Quadratic Equations?**\n",
            "\n",
            "At their core, quadratic equations are a type of polynomial equation where the highest power of the variable (usually 'x') is 2. They have a general form:\n",
            "\n",
            "**ax² + bx + c = 0**\n",
            "\n",
            "Where:\n",
            "\n",
            "*   **x** is the variable (the unknown we're trying to solve for).\n",
            "*   **a**, **b**, and **c** are coefficients, which are constants (numbers). Importantly, **a cannot be zero**; otherwise, it wouldn't be a quadratic equation.\n",
            "\n",
            "**Why are they important in Science?**\n",
            "\n",
            "Quadratic equations are incredibly useful in science because they describe relationships where a quantity changes at a rate that is proportional to the square of another quantity. Here are some examples:\n",
            "\n",
            "1.  **Projectile Motion:**\n",
            "    *   When an object is thrown or launched (like a ball or a rocket), its trajectory is often described by a parabola, which is the graph of a quadratic equation.\n",
            "    *   The equation can relate the object's height (y) to its horizontal distance (x) or time (t).\n",
            "    *   For example, the vertical position of a projectile under the influence of gravity can be modeled by an equation like:  `y = -1/2gt² + v₀t + y₀` where 'g' is the acceleration due to gravity, 'v₀' is the initial vertical velocity, and 'y₀' is the initial height. This is a quadratic equation in terms of time (t).\n",
            "\n",
            "2.  **Area and Volume Calculations:**\n",
            "    *   The area of a square or circle involves squaring a length or radius, respectively.\n",
            "    *   For example, the area of a circle is given by `A = πr²`, which is a quadratic relationship between the area (A) and the radius (r).\n",
            "    *   Similarly, the surface area of a sphere involves the square of the radius.\n",
            "\n",
            "3.  **Energy and Power:**\n",
            "    *   Kinetic energy (the energy of motion) is given by `KE = 1/2mv²`, where 'm' is mass and 'v' is velocity. This is a quadratic relationship between kinetic energy and velocity.\n",
            "    *   Electrical power dissipated in a resistor is given by `P = I²R`, where 'I' is current and 'R' is resistance. This is a quadratic relationship between power and current.\n",
            "\n",
            "4.  **Optics:**\n",
            "    *   The relationship between the object distance, image distance, and focal length of a lens or mirror can sometimes be described using quadratic equations.\n",
            "\n",
            "5.  **Growth and Decay:**\n",
            "    *   While exponential functions are more common for growth and decay, quadratic relationships can sometimes approximate these processes over a limited range.\n",
            "\n",
            "**Solving Quadratic Equations**\n",
            "\n",
            "There are several methods to solve quadratic equations (find the values of 'x' that make the equation true):\n",
            "\n",
            "*   **Factoring:** If the quadratic expression can be factored into two linear expressions, the solutions can be found by setting each factor to zero.\n",
            "*   **Quadratic Formula:** This is a general formula that always provides the solutions:\n",
            "\n",
            "    `x = (-b ± √(b² - 4ac)) / 2a`\n",
            "\n",
            "    The term `b² - 4ac` is called the discriminant. It tells us about the nature of the solutions:\n",
            "    *   If `b² - 4ac > 0`, there are two distinct real solutions.\n",
            "    *   If `b² - 4ac = 0`, there is one real solution (a repeated root).\n",
            "    *   If `b² - 4ac < 0`, there are two complex solutions (involving imaginary numbers).\n",
            "*   **Completing the Square:** This method involves manipulating the equation to create a perfect square trinomial, which can then be solved.\n",
            "\n",
            "**Key Takeaways**\n",
            "\n",
            "*   Quadratic equations are polynomial equations with the highest power of the variable being 2.\n",
            "*   They are fundamental in science for describing relationships where one quantity changes proportionally to the square of another.\n",
            "*   They appear in various fields, including physics (projectile motion, energy), geometry (area), and electrical engineering (power).\n",
            "*   They can be solved using factoring, the quadratic formula, or completing the square.\n",
            "\n",
            "In summary, quadratic equations are not just abstract mathematical concepts; they are powerful tools that allow us to model and understand a wide range of phenomena in the natural world. They provide a mathematical framework for describing relationships that are not linear, adding a layer of complexity and accuracy to our scientific models.\n",
            "\n",
            "\n",
            "Please enter your query (or type 'exit' to quit): What is Newton's 3rd Law of Motion\n",
            "Query: What is Newton's 3rd Law of Motion\n",
            "Category: Science\n",
            "Response: Okay, let's break down Newton's Third Law of Motion from a scientific perspective:\n",
            "\n",
            "**Newton's Third Law of Motion states: For every action, there is an equal and opposite reaction.**\n",
            "\n",
            "Here's a more detailed explanation, focusing on the key scientific concepts:\n",
            "\n",
            "**Key Concepts:**\n",
            "\n",
            "* **Action-Reaction Pairs:** The law describes interactions between *two* objects. It's not about a single force acting on a single object. Instead, it's about a *pair* of forces.\n",
            "* **Forces:** These are pushes or pulls that can cause an object to accelerate (change its velocity). Forces are vector quantities, meaning they have both magnitude (strength) and direction.\n",
            "* **Equal in Magnitude:** The action force and the reaction force have the *same* strength. If the action force is 10 Newtons, the reaction force is also 10 Newtons.\n",
            "* **Opposite in Direction:** The action force and the reaction force act in *opposite* directions. If the action force is pushing to the right, the reaction force is pushing to the left.\n",
            "* **Acting on Different Objects:** This is crucial! The action force acts on *one* object, and the reaction force acts on the *other* object. They never act on the same object.\n",
            "\n",
            "**How it Works:**\n",
            "\n",
            "Imagine you push against a wall (the action force). The wall, in turn, pushes back on you with an equal force in the opposite direction (the reaction force).\n",
            "\n",
            "* **Your push (action) is on the wall.**\n",
            "* **The wall's push (reaction) is on you.**\n",
            "\n",
            "This is why you feel the wall pushing back. If the wall didn't push back, you wouldn't feel anything.\n",
            "\n",
            "**Examples:**\n",
            "\n",
            "* **Swimming:** You push the water backward (action), and the water pushes you forward (reaction).\n",
            "* **Walking:** You push backward on the ground (action), and the ground pushes you forward (reaction).\n",
            "* **Rocket Propulsion:** A rocket expels hot gas backward (action), and the gas pushes the rocket forward (reaction).\n",
            "* **A Book on a Table:** The book exerts a downward force on the table (action), and the table exerts an upward force on the book (reaction). This is why the book doesn't fall through the table.\n",
            "\n",
            "**Important Considerations:**\n",
            "\n",
            "* **Not Cancellation:** While the forces are equal and opposite, they don't cancel each other out because they act on *different* objects. Cancellation only occurs when forces act on the *same* object.\n",
            "* **Simultaneous:** The action and reaction forces occur *simultaneously*. There isn't a delay between them.\n",
            "* **Universal:** Newton's Third Law applies to all forces, regardless of their nature (gravitational, electromagnetic, etc.).\n",
            "\n",
            "**In Summary:**\n",
            "\n",
            "Newton's Third Law is a fundamental principle of physics that describes how forces interact between objects. It highlights the interconnectedness of forces and explains why we observe motion and interactions in the world around us. It's not just about \"every action has a reaction,\" but about understanding the specific nature of these action-reaction pairs: equal in magnitude, opposite in direction, and acting on different objects.\n",
            "\n",
            "\n",
            "Please enter your query (or type 'exit' to quit): exit\n",
            "Goodbye!\n"
          ]
        }
      ]
    },
    {
      "cell_type": "markdown",
      "source": [],
      "metadata": {
        "id": "_vYcmAMrRm1Q"
      }
    }
  ]
}